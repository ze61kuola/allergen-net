{
 "cells": [
  {
   "cell_type": "code",
   "execution_count": 1,
   "metadata": {},
   "outputs": [],
   "source": [
    "import urllib.request\n",
    "import urllib.parse\n",
    "import re\n",
    "from bs4 import BeautifulSoup\n",
    "from Bio import Entrez, SeqIO\n",
    "\n",
    "\n",
    "Entrez.email = \"florianwolz@gmail.com\"\n",
    "\n",
    "overview_url = 'http://allergen.org/treeview.php'\n",
    "search_url = 'http://allergen.org/{}'\n",
    "\n",
    "overview = urllib.request.urlopen(overview_url)\n",
    "overview_soup = BeautifulSoup(overview, 'html.parser')"
   ]
  },
  {
   "cell_type": "code",
   "execution_count": 2,
   "metadata": {},
   "outputs": [],
   "source": [
    "allergen_tree = overview_soup.find('ul', id=\"allergentree\")"
   ]
  },
  {
   "cell_type": "code",
   "execution_count": 3,
   "metadata": {},
   "outputs": [],
   "source": [
    "search_urls = [search_url.format(category.find(\"cite\").find(\"a\")[\"href\"]).replace(' ', '%20') for category in allergen_tree.children]"
   ]
  },
  {
   "cell_type": "code",
   "execution_count": 4,
   "metadata": {},
   "outputs": [],
   "source": [
    "the_links = []\n",
    "for url in search_urls:\n",
    "    the_list = urllib.request.urlopen(url)\n",
    "    soup = BeautifulSoup(the_list, 'html.parser')\n",
    "    \n",
    "    # Get the links for all the elements\n",
    "    links = [a[\"href\"] for a in soup.findAll('a', href=re.compile('viewallergen.php\\?aid=*'))]\n",
    "    \n",
    "    the_links = the_links + links"
   ]
  },
  {
   "cell_type": "code",
   "execution_count": 6,
   "metadata": {},
   "outputs": [
    {
     "name": "stdout",
     "output_type": "stream",
     "text": [
      "HTTP Error 404: \n",
      "http://allergen.org/viewallergen.php?aid=949 http://www.uniprot.org/uniprot/AGV05390.1\n",
      "HTTP Error 400: Bad Request\n",
      "HTTP Error 404: \n",
      "http://allergen.org/viewallergen.php?aid=945 http://www.uniprot.org/uniprot/Submitted\n",
      "HTTP Error 400: Bad Request\n",
      "HTTP Error 400: Bad Request\n",
      "HTTP Error 400: Bad Request\n",
      "HTTP Error 404: \n",
      "http://allergen.org/viewallergen.php?aid=948 http://www.uniprot.org/uniprot/CAX32965\n",
      "HTTP Error 400: Bad Request\n",
      "HTTP Error 400: Bad Request\n",
      "HTTP Error 400: Bad Request\n",
      "Finished.\n"
     ]
    }
   ],
   "source": [
    "fasta = []\n",
    "file = open(\"../data/allergen_org_unfiltered.fasta\", \"w\")\n",
    "\n",
    "for link in the_links:\n",
    "    the__link = search_url.format(link)\n",
    "    \n",
    "    try:\n",
    "        the_page = urllib.request.urlopen(search_url.format(link))\n",
    "    except:\n",
    "        continue\n",
    "    soup = BeautifulSoup(the_page, 'html.parser')\n",
    "    \n",
    "    table = soup.findAll('table')[-1]\n",
    "    links = [td.find('a') for td in table.findAll('td')[2:4] if td.find('a')]\n",
    "    if len(links) == 0: continue\n",
    "        \n",
    "    current = 0\n",
    "    successful = False\n",
    "    while True:\n",
    "        if current >= len(links): break\n",
    "            \n",
    "        link = links[current][\"href\"]\n",
    "        fasta = None\n",
    "    \n",
    "        try:\n",
    "            if \"ncbi.nlm\" in link:\n",
    "                name = link.replace('http://www.ncbi.nlm.nih.gov/nuccore/', '')\n",
    "                handle = Entrez.efetch(db = \"protein\", id = name, rettype=\"fasta\", retmode=\"text\")\n",
    "                fasta = handle.read()\n",
    "            else:\n",
    "                r = urllib.request.urlopen(link + \".fasta\")\n",
    "                fasta = r.read().decode('utf-8')\n",
    "        except Exception as e:\n",
    "            print(e)\n",
    "            current += 1\n",
    "            continue\n",
    "            \n",
    "        successful = True\n",
    "        \n",
    "        # Write the file\n",
    "        if len(fasta) > 0:\n",
    "            if fasta[-1] != '\\n': fasta += '\\n'\n",
    "            file.write(fasta)\n",
    "        \n",
    "        # Done\n",
    "        break\n",
    "    \n",
    "    # Print all links that failed\n",
    "    if not successful: print(\"{} {}\".format(the__link, link))\n",
    "\n",
    "file.close()\n",
    "print(\"Finished.\")"
   ]
  }
 ],
 "metadata": {
  "kernelspec": {
   "display_name": "Python 3",
   "language": "python",
   "name": "python3"
  },
  "language_info": {
   "codemirror_mode": {
    "name": "ipython",
    "version": 3
   },
   "file_extension": ".py",
   "mimetype": "text/x-python",
   "name": "python",
   "nbconvert_exporter": "python",
   "pygments_lexer": "ipython3",
   "version": "3.7.2"
  }
 },
 "nbformat": 4,
 "nbformat_minor": 2
}
